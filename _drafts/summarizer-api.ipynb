{
 "cells": [
  {
   "cell_type": "markdown",
   "metadata": {},
   "source": [
    "# Build a text summarization api using Huggingface Transformers + FastAPI + Docker\n",
    "\n",
    "First lets make our virtualenv\n",
    "\n",
    "Windows:\n",
    "\n",
    "`\n",
    "python -m venv venv\n",
    "`"
   ]
  },
  {
   "cell_type": "code",
   "execution_count": null,
   "metadata": {},
   "outputs": [],
   "source": []
  }
 ],
 "metadata": {
  "language_info": {
   "name": "python"
  },
  "orig_nbformat": 4
 },
 "nbformat": 4,
 "nbformat_minor": 2
}
